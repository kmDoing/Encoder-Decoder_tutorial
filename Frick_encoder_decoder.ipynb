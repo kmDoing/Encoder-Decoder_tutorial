{
 "cells": [
  {
   "cell_type": "code",
   "execution_count": 1,
   "id": "60d2ed81-f6cf-4746-a96c-a563d51acd89",
   "metadata": {},
   "outputs": [],
   "source": [
    "# This tutorial is from: https://medium.com/correll-lab/building-an-encoder-decoder-for-text-summarization-c66ddf23f466\n",
    "# It is an encoder-decoder for text summarization"
   ]
  },
  {
   "cell_type": "code",
   "execution_count": 1,
   "id": "6ab5377a-0cc6-4a0c-b092-dc0e99500003",
   "metadata": {},
   "outputs": [],
   "source": [
    "import torch\n",
    "import torch.nn as nn\n",
    "import torch.optim as optim\n",
    "import torchvision.transforms as T\n",
    "import torch.nn.functional as F\n",
    "from torch.utils.data import Dataset, DataLoader\n",
    "import numpy as np\n",
    "from datasets import load_dataset"
   ]
  },
  {
   "cell_type": "code",
   "execution_count": 2,
   "id": "a8239241-fd1e-4dad-88e7-6f02fd17e827",
   "metadata": {},
   "outputs": [
    {
     "name": "stderr",
     "output_type": "stream",
     "text": [
      "/home/kristina/.local/lib/python3.10/site-packages/matplotlib/projections/__init__.py:63: UserWarning: Unable to import Axes3D. This may be due to multiple versions of Matplotlib being installed (e.g. as a system package and as a pip package). As a result, the 3D projection is not available.\n",
      "  warnings.warn(\"Unable to import Axes3D. This may be due to multiple versions of \"\n"
     ]
    }
   ],
   "source": [
    "import matplotlib.pyplot as plt"
   ]
  },
  {
   "cell_type": "code",
   "execution_count": 3,
   "id": "edba20a1-b19c-49d4-86ca-597e3080c2f8",
   "metadata": {},
   "outputs": [],
   "source": [
    "from transformers import BartTokenizer\n",
    "from tqdm import tqdm"
   ]
  },
  {
   "cell_type": "code",
   "execution_count": 4,
   "id": "a013cf81-60d0-47d5-838f-4a957dcef9db",
   "metadata": {},
   "outputs": [],
   "source": [
    "# inspired by https://medium.com/@bavalpreetsinghh/transformer-from-scratch-using-pytorch-28a5d1b2e033\n",
    "class PositionalEmbedding(nn.Module):\n",
    "    def __init__(self, emb_dim, max_seq_length):\n",
    "        super().__init__()\n",
    "        # Create fixed sinusoidal positional embeddings\n",
    "        pe = torch.zeros(max_seq_length, emb_dim)\n",
    "        position = torch.arange(0, max_seq_length, dtype=torch.float).unsqueeze(1)\n",
    "        div_term = torch.exp(torch.arange(0, emb_dim, 2).float() * (-torch.log(torch.tensor(10000.0)) / emb_dim))\n",
    "        pe[:, 0::2] = torch.sin(position * div_term) # even-index columns\n",
    "        pe[:, 1::2] = torch.cos(position * div_term) # odd-index columns\n",
    "        pe = pe.unsqueeze(0)\n",
    "        self.register_buffer('pe', pe)\n",
    "        \n",
    "    def forward(self, x):\n",
    "        x = x + self.pe[:, :x.shape[1], :]  # Adjust to match the input size\n",
    "        \n",
    "        return x"
   ]
  },
  {
   "cell_type": "code",
   "execution_count": 5,
   "id": "6628b25c-1eb9-4d29-ae80-40e0e168e258",
   "metadata": {},
   "outputs": [],
   "source": [
    "class AttentionHead(nn.Module):\n",
    "  def __init__(self, emb_dim, head_size, causal=False):\n",
    "    super().__init__()\n",
    "    self.head_size = head_size\n",
    "\n",
    "    self.query = nn.Linear(emb_dim, head_size, bias=False)\n",
    "    self.key = nn.Linear(emb_dim, head_size, bias=False)\n",
    "    self.value = nn.Linear(emb_dim, head_size, bias=False)\n",
    "\n",
    "    self.causal = causal\n",
    "\n",
    "  def forward(self, x, kv=None, k_mask=None):\n",
    "    B, T, C = x.shape\n",
    "    Q = self.query(x)                            # Shape: (B, q_len, head_size)\n",
    "    K = self.key(kv if kv is not None else x)    # Shape: (B, seq_len, head_size) where seq_len = k_len if cross attention, else q_len\n",
    "    V = self.value(kv if kv is not None else x)  # Shape: (B, seq_len, head_size) where seq_len = k_len if cross attention, else q_len\n",
    "\n",
    "    # Dot Product of Queries and Keys\n",
    "    attention = Q @ K.transpose(-2,-1) # Shape: (B, q_len, k_len)\n",
    "\n",
    "    # Scaling to prevent softmax saturation\n",
    "    attention = attention / (self.head_size ** 0.5)\n",
    "    \n",
    "    # Applying k padding mask if provided (column-wise mask)\n",
    "    if k_mask is not None:\n",
    "      k_mask = k_mask.unsqueeze(1) # Shape: (B, 1, k_len) can be broadcast with attention\n",
    "      attention = attention.masked_fill(k_mask == 0, float(\"-inf\"))\n",
    "\n",
    "    # Applying causal mask for decoder's masked MHA\n",
    "    if self.causal:\n",
    "      c_mask = torch.tril(torch.ones(T, T, device=x.device)) # is broadcastable with attention (B, T, T)\n",
    "      attention = attention.masked_fill(c_mask == 0, float(\"-inf\"))\n",
    "\n",
    "    attention = torch.softmax(attention, dim=-1)\n",
    "\n",
    "    # Weighted sum of values\n",
    "    output = attention @ V # Shape: (B, seq_len, head_size)  where seq_len = k_len if cross attention, else q_len\n",
    "\n",
    "    return output"
   ]
  },
  {
   "cell_type": "code",
   "execution_count": 6,
   "id": "2daff456-bae1-404e-b57e-652c465a87ed",
   "metadata": {},
   "outputs": [],
   "source": [
    "class MultiHeadAttention(nn.Module):\n",
    "  def __init__(self, emb_dim, n_heads, causal=False):\n",
    "    super().__init__()\n",
    "    \n",
    "    assert emb_dim % n_heads == 0, \"emb_dim must be divisible by n_heads\"\n",
    "    \n",
    "    self.head_size = emb_dim // n_heads\n",
    "\n",
    "    self.W_o = nn.Linear(emb_dim, emb_dim, bias=False)\n",
    "\n",
    "    self.causal = causal\n",
    "\n",
    "    self.heads = nn.ModuleList([AttentionHead(emb_dim, self.head_size, causal=self.causal) for _ in range(n_heads)])\n",
    "\n",
    "  def forward(self, x, kv=None, k_mask=None):\n",
    "    # Combine attention heads\n",
    "    out = torch.cat([head(x, kv, k_mask=k_mask) for head in self.heads], dim=-1)\n",
    "    \n",
    "    out = self.W_o(out)\n",
    "\n",
    "    return out"
   ]
  },
  {
   "cell_type": "code",
   "execution_count": 7,
   "id": "89506f98-f700-45d9-92ba-f9a0b8248dad",
   "metadata": {},
   "outputs": [],
   "source": [
    "class TransformerEncoder(nn.Module):\n",
    "    def __init__(self, emb_dim, n_heads, r_mlp=4, dropout=0.1):\n",
    "        super().__init__()\n",
    "        self.emb_dim = emb_dim\n",
    "        self.n_heads = n_heads\n",
    "\n",
    "        # Sub-Layer 1 Normalization\n",
    "        self.ln1 = nn.LayerNorm(emb_dim)\n",
    "\n",
    "        # Multi-Head Attention\n",
    "        self.mha = MultiHeadAttention(emb_dim, n_heads)\n",
    "\n",
    "        # Dropout after MHA\n",
    "        self.dropout1 = nn.Dropout(dropout)  \n",
    "\n",
    "        # Sub-Layer 2 Normalization\n",
    "        self.ln2 = nn.LayerNorm(emb_dim)\n",
    "\n",
    "        # Multilayer Perceptron\n",
    "        self.mlp = nn.Sequential(\n",
    "            nn.Linear(self.emb_dim, self.emb_dim * r_mlp),\n",
    "            nn.GELU(),\n",
    "            nn.Linear(self.emb_dim * r_mlp, self.emb_dim)\n",
    "        )\n",
    "\n",
    "        # Dropout after MLP\n",
    "        self.dropout2 = nn.Dropout(dropout)  \n",
    "\n",
    "    def forward(self, x, src_mask=None):\n",
    "        # Residual Connection After Sub-Layer 1 (MHA)\n",
    "        x = x + self.dropout1(self.mha(self.ln1(x), k_mask=src_mask))\n",
    "\n",
    "        # Residual Connection After Sub-Layer 2 (MLP)\n",
    "        x = x + self.dropout2(self.mlp(self.ln2(x)))\n",
    "\n",
    "        return x\n"
   ]
  },
  {
   "cell_type": "code",
   "execution_count": 8,
   "id": "d7a5fb21-4207-44a9-99c6-93369fb20d69",
   "metadata": {},
   "outputs": [],
   "source": [
    "class TransformerDecoder(nn.Module):\n",
    "    def __init__(self, emb_dim, n_heads, r_mlp=4, dropout=0.1):\n",
    "        super().__init__()\n",
    "        self.emb_dim = emb_dim\n",
    "        self.n_heads = n_heads\n",
    "\n",
    "        self.ln1 = nn.LayerNorm(emb_dim)\n",
    "        self.masked_mha = MultiHeadAttention(emb_dim, n_heads, causal=True)\n",
    "        self.dropout1 = nn.Dropout(dropout)  # Dropout after masked MHA\n",
    "\n",
    "        self.ln2 = nn.LayerNorm(emb_dim)\n",
    "        self.cross_attention = MultiHeadAttention(emb_dim, n_heads)\n",
    "        self.dropout2 = nn.Dropout(dropout)  # Dropout after cross-attention\n",
    "\n",
    "        self.ln3 = nn.LayerNorm(emb_dim)\n",
    "        self.mlp = nn.Sequential(\n",
    "            nn.Linear(self.emb_dim, self.emb_dim * r_mlp),\n",
    "            nn.GELU(),\n",
    "            nn.Linear(self.emb_dim * r_mlp, self.emb_dim)\n",
    "        )\n",
    "        self.dropout3 = nn.Dropout(dropout)  # Dropout after MLP\n",
    "\n",
    "    def forward(self, x, encoder_output, src_mask=None, tgt_mask=None):\n",
    "        x = x + self.dropout1(self.masked_mha(self.ln1(x), k_mask=tgt_mask))\n",
    "        x = x + self.dropout2(self.cross_attention(self.ln2(x), kv=encoder_output, k_mask=src_mask))\n",
    "        x = x + self.dropout3(self.mlp(self.ln3(x)))\n",
    "        return x\n"
   ]
  },
  {
   "cell_type": "code",
   "execution_count": 9,
   "id": "788a142c-e56d-4ffc-b2f2-4c3d433ce7c1",
   "metadata": {},
   "outputs": [],
   "source": [
    "class TextEncoder(nn.Module):\n",
    "    def __init__(self, vocab_size, emb_dim, max_seq_length, n_heads, n_layers, dropout=0.1):  \n",
    "        super().__init__()\n",
    "\n",
    "        self.encoder_embedding = nn.Embedding(vocab_size, emb_dim)\n",
    "        self.positional_embedding = PositionalEmbedding(emb_dim, max_seq_length)\n",
    "\n",
    "        self.dropout = nn.Dropout(dropout)\n",
    "\n",
    "        self.encoder = nn.ModuleList(\n",
    "            [TransformerEncoder(emb_dim, n_heads, dropout=dropout) for _ in range(n_layers)]\n",
    "        )\n",
    "\n",
    "    def forward(self, text, src_mask=None):\n",
    "        # Note: we apply dropout after the positional embeddings\n",
    "        x = self.encoder_embedding(text)\n",
    "        x = self.positional_embedding(x)\n",
    "        x = self.dropout(x)\n",
    "\n",
    "        for encoder_layer in self.encoder:\n",
    "            x = encoder_layer(x, src_mask=src_mask)\n",
    "\n",
    "        return x\n"
   ]
  },
  {
   "cell_type": "code",
   "execution_count": 10,
   "id": "9080fba7-01ac-4f4c-a517-3707e1ab6959",
   "metadata": {},
   "outputs": [],
   "source": [
    "class TextDecoder(nn.Module):\n",
    "    def __init__(self, vocab_size, emb_dim, max_seq_length, n_heads, n_layers, dropout=0.1):\n",
    "        super().__init__()\n",
    "\n",
    "        self.decoder_embedding = nn.Embedding(vocab_size, emb_dim)\n",
    "        self.positional_embedding = PositionalEmbedding(emb_dim, max_seq_length)\n",
    "\n",
    "        self.dropout = nn.Dropout(dropout)\n",
    "\n",
    "        self.decoder = nn.ModuleList(\n",
    "            [TransformerDecoder(emb_dim, n_heads, dropout=dropout) for _ in range(n_layers)]\n",
    "        )\n",
    "\n",
    "        self.output_projection = nn.Linear(emb_dim, vocab_size)\n",
    "\n",
    "    def forward(self, tgt, encoder_outputs, src_mask=None, tgt_mask=None):\n",
    "        q = self.decoder_embedding(tgt)\n",
    "        q = self.positional_embedding(q)\n",
    "        q = self.dropout(q)\n",
    "\n",
    "        for decoder_layer in self.decoder:\n",
    "            q = decoder_layer(q, encoder_outputs, src_mask=src_mask, tgt_mask=tgt_mask)\n",
    "\n",
    "        q = self.output_projection(q)\n",
    "        return q\n"
   ]
  },
  {
   "cell_type": "code",
   "execution_count": 11,
   "id": "a008ee3a-9dd8-45a6-93fd-317c06b9bb05",
   "metadata": {},
   "outputs": [],
   "source": [
    "class EncoderDecoder(nn.Module):\n",
    "    def __init__(self, vocab_size, emb_dim, max_text_length, max_summary_length, n_heads, n_layers):\n",
    "        super().__init__()\n",
    "        self.encoder = TextEncoder(vocab_size, emb_dim, max_text_length, n_heads, n_layers)\n",
    "        self.decoder = TextDecoder(vocab_size, emb_dim, max_summary_length, n_heads, n_layers)\n",
    "\n",
    "    def forward(self, src, tgt, src_mask=None, tgt_mask=None):\n",
    "        encoder_outputs = self.encoder(src, src_mask=src_mask)\n",
    "\n",
    "        decoder_outputs = self.decoder(tgt, encoder_outputs, src_mask=src_mask, tgt_mask=tgt_mask)\n",
    "\n",
    "        return decoder_outputs\n",
    "\n",
    "    def generate(self, src, src_mask=None, max_length=128):\n",
    "        encoder_outputs = self.encoder(src, src_mask=src_mask) # Shape: (batch_size, seq_len, hidden_dim)\n",
    "\n",
    "        B = src.size(0)\n",
    "        # Initialize predicted text with the start token {<s>: 0}\n",
    "        predicted_text = torch.full((B, 1), fill_value=0, device=src.device) # Shape: (B, 1)\n",
    "        \n",
    "        for _ in range(max_length):\n",
    "            decoder_outputs = self.decoder(predicted_text, encoder_outputs, src_mask=src_mask) # mask encoder outputs corresponding with padding in the input\n",
    "\n",
    "            # next_token = torch.multinomial(torch.softmax(decoder_outputs[:, -1, :], dim=-1), num_samples=1)  # Sample from the output distribution\n",
    "            next_token = decoder_outputs[:, -1, :].argmax(dim=-1, keepdim=True)\n",
    "\n",
    "            predicted_text = torch.cat((predicted_text, next_token), dim=1)\n",
    "\n",
    "            if torch.all(next_token == 2):  # Stop when all sequences predict <eos>\n",
    "                break\n",
    "                    \n",
    "        return predicted_text\n"
   ]
  },
  {
   "cell_type": "code",
   "execution_count": 12,
   "id": "973572b6-c3f6-42b2-8feb-9a1a1944c4cb",
   "metadata": {},
   "outputs": [],
   "source": [
    "class sumTokenizer:\n",
    "    def __init__(self, max_text_length=512, max_summary_length=128):\n",
    "        self.tokenizer = BartTokenizer.from_pretrained(\"facebook/bart-base\")\n",
    "        self.max_text_length = max_text_length\n",
    "        self.max_summary_length = max_summary_length\n",
    "        self.vocab_size = len(self.tokenizer)\n",
    "        \n",
    "    def __call__(self, text, is_target=False, padding=True, truncation=True):\n",
    "        if is_target:\n",
    "            return self.tokenizer(\n",
    "                text,\n",
    "                padding='max_length' if padding else False,\n",
    "                truncation=truncation,\n",
    "                max_length=self.max_summary_length,\n",
    "                return_tensors='pt'\n",
    "            )\n",
    "        else:\n",
    "            return self.tokenizer(\n",
    "                text,\n",
    "                padding='max_length' if padding else False,\n",
    "                truncation=truncation,\n",
    "                max_length=self.max_text_length,\n",
    "                return_tensors='pt'\n",
    "            )\n",
    "            \n",
    "    \n",
    "    def decode(self, token_ids, skip_special_tokens=True):\n",
    "        return self.tokenizer.decode(token_ids, skip_special_tokens=skip_special_tokens)\n"
   ]
  },
  {
   "cell_type": "code",
   "execution_count": 14,
   "id": "1bf0dd4c-68f4-458b-9e03-8219c548f767",
   "metadata": {},
   "outputs": [],
   "source": [
    "# Short hyperparameter settings for a dummy data set\n",
    "emb_dim = 256\n",
    "max_text_length=20\n",
    "max_summary_length=10\n",
    "text_heads = 8\n",
    "text_layers = 6"
   ]
  },
  {
   "cell_type": "code",
   "execution_count": 15,
   "id": "6a84ebb8-1b28-48cc-aed5-5714ed4aebf1",
   "metadata": {},
   "outputs": [
    {
     "name": "stdout",
     "output_type": "stream",
     "text": [
      "Using device:  cuda (NVIDIA RTX 5000 Ada Generation Laptop GPU)\n"
     ]
    }
   ],
   "source": [
    "# Create the model\n",
    "device = torch.device(\"cuda\" if torch.cuda.is_available() else \"cpu\")\n",
    "print(\"Using device: \", device, f\"({torch.cuda.get_device_name(device)})\" if torch.cuda.is_available() else \"\")\n",
    "\n",
    "tokenizer = sumTokenizer(max_text_length, max_summary_length)\n",
    "model = EncoderDecoder(\n",
    "    vocab_size=tokenizer.vocab_size,\n",
    "    emb_dim=emb_dim,\n",
    "    max_text_length=max_text_length,\n",
    "    max_summary_length=max_summary_length,\n",
    "    n_heads=text_heads,\n",
    "    n_layers=text_layers\n",
    ").to(device)"
   ]
  },
  {
   "cell_type": "code",
   "execution_count": 16,
   "id": "dd0be673-9a41-4d70-9cf6-2aae395dc588",
   "metadata": {},
   "outputs": [],
   "source": [
    "class DummyDataset(Dataset):\n",
    "    def __init__(self, max_text_length=20, max_summary_length=10, total_examples=10, unk_text=False):\n",
    "        self.tokenizer = sumTokenizer(max_text_length, max_summary_length)\n",
    "\n",
    "        if unk_text:\n",
    "            self.text = \"A new text input unknown to the model.\"\n",
    "            self.summary = \"unknown input\"\n",
    "        else:\n",
    "            self.text = \"Example input to test whether model can memorize a single example\"\n",
    "            self.summary = \"The summary of example input\"\n",
    "        self.total_examples = total_examples\n",
    "\n",
    "    def __len__(self):\n",
    "        return self.total_examples\n",
    "    \n",
    "    def __getitem__(self, i):\n",
    "        # Tokenize input and target\n",
    "        inputs = self.tokenizer(self.text, is_target=False)\n",
    "        targets = self.tokenizer(self.summary, is_target=True)\n",
    "\n",
    "        target_ids = targets[\"input_ids\"].squeeze(0)\n",
    "        \n",
    "        # Shift targets right: [<s>, The, summary, ..., </s>] -> [<pad>, <s>, The, summary, ...]\n",
    "        decoder_input_ids = torch.cat(\n",
    "            [torch.tensor([1], device=target_ids.device), target_ids[:-1]]  # Assuming 1 is the <pad> token\n",
    "        )\n",
    "\n",
    "        return {\n",
    "            \"input_ids\": inputs[\"input_ids\"].squeeze(0),\n",
    "            \"input_mask\": inputs[\"attention_mask\"].squeeze(0),\n",
    "            \"target_ids\": target_ids,  # Used for loss calculation\n",
    "            \"decoder_input_ids\": decoder_input_ids,  # Shifted, used for model input\n",
    "            \"target_mask\": targets[\"attention_mask\"].squeeze(0)\n",
    "        }\n"
   ]
  },
  {
   "cell_type": "code",
   "execution_count": 17,
   "id": "2a0f09be-46de-40d0-9c55-a53b9765ee10",
   "metadata": {},
   "outputs": [],
   "source": [
    "batch_size = 2\n",
    "train_set = DummyDataset(max_text_length, max_summary_length)\n",
    "test_set = DummyDataset(max_text_length, max_summary_length, unk_text=True)\n",
    "\n",
    "train_loader = DataLoader(train_set, shuffle=True, batch_size=batch_size)\n",
    "test_loader = DataLoader(test_set, shuffle=False, batch_size=batch_size)"
   ]
  },
  {
   "cell_type": "code",
   "execution_count": 18,
   "id": "cae1b2c7-b6f3-4940-b087-6d2ffd334431",
   "metadata": {},
   "outputs": [
    {
     "name": "stdout",
     "output_type": "stream",
     "text": [
      "Epoch 1/4\n",
      "Training loss: 11.145790100097656\n",
      "Training loss: 9.961015701293945\n",
      "Training loss: 9.013273239135742\n",
      "Training loss: 8.227375030517578\n",
      "Training loss: 7.159940242767334\n",
      "Epoch 2/4\n",
      "Training loss: 6.332310199737549\n",
      "Training loss: 5.3534111976623535\n",
      "Training loss: 4.550034046173096\n",
      "Training loss: 3.764129400253296\n",
      "Training loss: 3.245220422744751\n",
      "Epoch 3/4\n",
      "Training loss: 2.45048451423645\n",
      "Training loss: 1.7826935052871704\n",
      "Training loss: 1.4690582752227783\n",
      "Training loss: 1.1718952655792236\n",
      "Training loss: 0.8599821329116821\n",
      "Epoch 4/4\n",
      "Training loss: 0.6447557806968689\n",
      "Training loss: 0.4907485544681549\n",
      "Training loss: 0.395873486995697\n",
      "Training loss: 0.3992881178855896\n",
      "Training loss: 0.35742583870887756\n"
     ]
    }
   ],
   "source": [
    "epochs = 4\n",
    "lr = 5e-5\n",
    "optimizer = optim.Adam(model.parameters(), lr=lr)\n",
    "\n",
    "for epoch in range(epochs):\n",
    "    print(f\"Epoch {epoch + 1}/{epochs}\")\n",
    "    for batch in train_loader:\n",
    "        input_ids = batch[\"input_ids\"].to(device)\n",
    "        src_mask = batch[\"input_mask\"].to(device)\n",
    "        target_ids = batch[\"target_ids\"].to(device)\n",
    "        decoder_input_ids = batch[\"decoder_input_ids\"].to(device)\n",
    "        tgt_mask = batch[\"target_mask\"].to(device)\n",
    "\n",
    "        # Forward pass with shifted decoder input\n",
    "        outputs = model(\n",
    "            input_ids,\n",
    "            decoder_input_ids,  # shifted target IDs\n",
    "            src_mask=src_mask,\n",
    "            tgt_mask=tgt_mask\n",
    "        )\n",
    "\n",
    "        # Compute loss (predicting `target_ids`)\n",
    "        loss = F.cross_entropy(\n",
    "            outputs.view(-1, outputs.size(-1)),  \n",
    "            target_ids.view(-1),                 \n",
    "            ignore_index=1\n",
    "        )\n",
    "\n",
    "        optimizer.zero_grad()\n",
    "        loss.backward()\n",
    "        optimizer.step()\n",
    "\n",
    "        print(\"Training loss:\", loss.item())\n"
   ]
  },
  {
   "cell_type": "code",
   "execution_count": 19,
   "id": "45a3a728-f466-42e9-a071-e1abc7eb98b2",
   "metadata": {},
   "outputs": [
    {
     "name": "stdout",
     "output_type": "stream",
     "text": [
      "Test input: <s>Example input to test whether model can memorize a single example</s><pad><pad><pad><pad><pad><pad>\n",
      "\n",
      "Test target: <s>The summary of example input</s><pad><pad><pad>\n",
      "Generated Output: ['<s>The summary of example input</s>', '<s>The summary of example input</s>']\n"
     ]
    }
   ],
   "source": [
    "# Testing the model on a batch from the train loader (known dummy example)\n",
    "test_batch = next(iter(train_loader))\n",
    "input_ids = test_batch[\"input_ids\"].to(device)\n",
    "src_mask = test_batch[\"input_mask\"].to(device)\n",
    "target_ids = test_batch[\"target_ids\"].to(device)\n",
    "tgt_mask = test_batch[\"target_mask\"].to(device)\n",
    "\n",
    "print(\"Test input:\",tokenizer.tokenizer.decode(input_ids[0], skip_special_tokens=False))\n",
    "print(\"\\nTest target:\",tokenizer.tokenizer.decode(target_ids[0], skip_special_tokens=False))\n",
    "\n",
    "model.eval()\n",
    "with torch.no_grad():\n",
    "    outputs = model.generate(input_ids, src_mask=src_mask, max_length=max_summary_length)\n",
    "\n",
    "predicted_text = tokenizer.tokenizer.batch_decode(outputs, skip_special_tokens=False)  # Decode to text\n",
    "print(\"Generated Output:\", predicted_text)  # Print the predicted output"
   ]
  },
  {
   "cell_type": "code",
   "execution_count": 20,
   "id": "9677c25e-fbea-42b9-9fab-48fb0aec08d8",
   "metadata": {},
   "outputs": [
    {
     "name": "stdout",
     "output_type": "stream",
     "text": [
      "Test input: <s>A new text input unknown to the model.</s><pad><pad><pad><pad><pad><pad><pad><pad><pad>\n",
      "\n",
      "Test target: <s>unknown input</s><pad><pad><pad><pad><pad><pad>\n",
      "Predicted Output: ['The summary of example input', 'The summary of example input']\n"
     ]
    }
   ],
   "source": [
    "# Testing the model on a batch from the test loader (unseen example)\n",
    "test_batch = next(iter(test_loader))\n",
    "input_ids = test_batch[\"input_ids\"].to(device)\n",
    "src_mask = test_batch[\"input_mask\"].to(device)\n",
    "target_ids = test_batch[\"target_ids\"].to(device)\n",
    "tgt_mask = test_batch[\"target_mask\"].to(device)\n",
    "\n",
    "print(\"Test input:\",tokenizer.tokenizer.decode(input_ids[0], skip_special_tokens=False))\n",
    "print(\"\\nTest target:\",tokenizer.tokenizer.decode(target_ids[0], skip_special_tokens=False))\n",
    "\n",
    "model.eval()\n",
    "with torch.no_grad():\n",
    "    outputs = model.generate(input_ids, src_mask=src_mask, max_length=max_summary_length)\n",
    "\n",
    "predicted_text = tokenizer.tokenizer.batch_decode(outputs, skip_special_tokens=True)  # Decode to text\n",
    "print(\"Predicted Output:\", predicted_text)  # Print the predicted output"
   ]
  },
  {
   "cell_type": "code",
   "execution_count": 13,
   "id": "8a7f0bb4-e2ef-4794-8ce2-2fd28e5766ed",
   "metadata": {},
   "outputs": [],
   "source": [
    "# increasing parameters for real data\n",
    "emb_dim = 256\n",
    "max_text_length=512\n",
    "max_summary_length=128\n",
    "text_heads = 8\n",
    "text_layers = 8\n",
    "\n",
    "epochs = 3\n",
    "batch_size = 8\n",
    "lr = 5e-5"
   ]
  },
  {
   "cell_type": "code",
   "execution_count": 14,
   "id": "3f30c2bb-2a04-4368-9780-d371bd468aa6",
   "metadata": {},
   "outputs": [],
   "source": [
    "class CNN_Dataset(Dataset):\n",
    "    def __init__(self, dataset, max_text_length=512, max_summary_length=128):\n",
    "        self.dataset = dataset\n",
    "        self.tokenizer = sumTokenizer(max_text_length, max_summary_length)\n",
    "\n",
    "    def __len__(self):\n",
    "        return len(self.dataset)\n",
    "\n",
    "    def __getitem__(self, i):\n",
    "        # Get text and summary from dataset\n",
    "        text = self.dataset[i][\"article\"]\n",
    "        summary = self.dataset[i][\"highlights\"]\n",
    "\n",
    "        # Tokenize input and target\n",
    "        inputs = self.tokenizer(text, is_target=False)\n",
    "        targets = self.tokenizer(summary, is_target=True)\n",
    "\n",
    "        target_ids = targets[\"input_ids\"].squeeze(0)\n",
    "\n",
    "        # Shift targets right for decoder input\n",
    "        decoder_input_ids = torch.cat(\n",
    "            [torch.tensor([1], device=target_ids.device), target_ids[:-1]]  # 1 is the <pad> token\n",
    "        )\n",
    "\n",
    "        return {\n",
    "            \"input_ids\": inputs[\"input_ids\"].squeeze(0),\n",
    "            \"input_mask\": inputs[\"attention_mask\"].squeeze(0),\n",
    "            \"target_ids\": target_ids,  # Used for loss calculation\n",
    "            \"decoder_input_ids\": decoder_input_ids,  # Shifted for decoder\n",
    "            \"target_mask\": targets[\"attention_mask\"].squeeze(0)\n",
    "        }"
   ]
  },
  {
   "cell_type": "code",
   "execution_count": 15,
   "id": "80798867-d4a5-42bb-888b-c6097e7d8439",
   "metadata": {},
   "outputs": [
    {
     "name": "stdout",
     "output_type": "stream",
     "text": [
      "['train', 'validation', 'test']\n"
     ]
    }
   ],
   "source": [
    "# Create data set\n",
    "data_files = {'train': \"cnn_dailymail/train.csv\", 'validation': \"cnn_dailymail/validation.csv\",\n",
    "              'test': \"cnn_dailymail/test.csv\"}\n",
    "cnn_data = load_dataset(\"csv\", data_files=data_files)\n",
    "print(list(cnn_data.keys()))"
   ]
  },
  {
   "cell_type": "code",
   "execution_count": 16,
   "id": "4e618c30-7722-4e1b-bf37-453c816132d2",
   "metadata": {},
   "outputs": [
    {
     "name": "stdout",
     "output_type": "stream",
     "text": [
      "Loaded 287113 examples\n",
      "Loaded 13368 examples\n",
      "Loaded 11490 examples\n"
     ]
    }
   ],
   "source": [
    "train_set = CNN_Dataset(cnn_data['train'], max_text_length=max_text_length, max_summary_length=max_summary_length)\n",
    "print(f\"Loaded {len(train_set)} examples\")\n",
    "val_set = CNN_Dataset(cnn_data['validation'], max_text_length=max_text_length, max_summary_length=max_summary_length)\n",
    "print(f\"Loaded {len(val_set)} examples\")\n",
    "test_set = CNN_Dataset(cnn_data['test'], max_text_length=max_text_length, max_summary_length=max_summary_length)\n",
    "print(f\"Loaded {len(test_set)} examples\")"
   ]
  },
  {
   "cell_type": "code",
   "execution_count": 17,
   "id": "58ef759d-4bb9-4987-a79c-95bd6ae1c6ba",
   "metadata": {},
   "outputs": [
    {
     "name": "stdout",
     "output_type": "stream",
     "text": [
      "loading 35890 train batches\n",
      "loading 1671 validation batches\n",
      "loading 1437 test batches\n"
     ]
    }
   ],
   "source": [
    "# Create data loaders\n",
    "train_loader = DataLoader(train_set, shuffle=True, batch_size=batch_size, pin_memory=True)\n",
    "print(f\"loading {len(train_loader)} train batches\")\n",
    "val_loader = DataLoader(val_set, shuffle=False, batch_size=batch_size, pin_memory=True)\n",
    "print(f\"loading {len(val_loader)} validation batches\")\n",
    "test_loader = DataLoader(test_set, shuffle=False, batch_size=batch_size, pin_memory=True)\n",
    "print(f\"loading {len(test_loader)} test batches\")"
   ]
  },
  {
   "cell_type": "code",
   "execution_count": 18,
   "id": "1b176ff2-4b17-4a04-adeb-0c4a94fd4567",
   "metadata": {},
   "outputs": [
    {
     "name": "stdout",
     "output_type": "stream",
     "text": [
      "Using device:  cuda (NVIDIA RTX 5000 Ada Generation Laptop GPU)\n"
     ]
    }
   ],
   "source": [
    "device = torch.device(\"cuda\" if torch.cuda.is_available() else \"cpu\")\n",
    "print(\"Using device: \", device, f\"({torch.cuda.get_device_name(device)})\" if torch.cuda.is_available() else \"\")\n",
    "\n",
    "# Initialize tokenizer and model\n",
    "tokenizer = sumTokenizer(max_text_length=max_text_length, max_summary_length=max_summary_length)\n",
    "model = EncoderDecoder(\n",
    "    vocab_size=tokenizer.vocab_size,\n",
    "    emb_dim=emb_dim,\n",
    "    max_text_length=max_text_length,\n",
    "    max_summary_length=max_summary_length,\n",
    "    n_heads=text_heads,\n",
    "    n_layers=text_layers\n",
    ").to(device)"
   ]
  },
  {
   "cell_type": "code",
   "execution_count": 19,
   "id": "5669ee2b-e241-402c-98e3-9f7759e667f8",
   "metadata": {},
   "outputs": [
    {
     "name": "stdout",
     "output_type": "stream",
     "text": [
      "Epoch 1/3\n"
     ]
    },
    {
     "name": "stderr",
     "output_type": "stream",
     "text": [
      "Epoch 1/3: 100%|██████████████████████████████████| 35890/35890 [1:22:25<00:00,  7.26it/s, loss=5.13]\n"
     ]
    },
    {
     "name": "stdout",
     "output_type": "stream",
     "text": [
      "Epoch 1: Validation loss = 4.935318150112259\n",
      "Epoch 2/3\n"
     ]
    },
    {
     "name": "stderr",
     "output_type": "stream",
     "text": [
      "Epoch 2/3: 100%|██████████████████████████████████| 35890/35890 [1:22:04<00:00,  7.29it/s, loss=4.71]\n"
     ]
    },
    {
     "name": "stdout",
     "output_type": "stream",
     "text": [
      "Epoch 2: Validation loss = 4.518493023552201\n",
      "Epoch 3/3\n"
     ]
    },
    {
     "name": "stderr",
     "output_type": "stream",
     "text": [
      "Epoch 3/3: 100%|██████████████████████████████████| 35890/35890 [1:22:07<00:00,  7.28it/s, loss=4.32]\n"
     ]
    },
    {
     "name": "stdout",
     "output_type": "stream",
     "text": [
      "Epoch 3: Validation loss = 4.262462207188084\n"
     ]
    }
   ],
   "source": [
    "# train on big data set\n",
    "\n",
    "optimizer = optim.Adam(model.parameters(), lr=lr)\n",
    "loss_history = []\n",
    "\n",
    "scaler = torch.amp.GradScaler(\"cuda\")\n",
    "\n",
    "for epoch in range(epochs):\n",
    "    print(f\"Epoch {epoch + 1}/{epochs}\")\n",
    "    model.train()  # Ensure model is in training mode\n",
    "\n",
    "    progress_bar = tqdm(train_loader, desc=f\"Epoch {epoch + 1}/{epochs}\")\n",
    "    for batch_idx, batch in enumerate(progress_bar):\n",
    "        input_ids = batch[\"input_ids\"].to(device)\n",
    "        src_mask = batch[\"input_mask\"].to(device)\n",
    "        target_ids = batch[\"target_ids\"].to(device)  # Unshifted, used for loss\n",
    "        decoder_input_ids = batch[\"decoder_input_ids\"].to(device)  # Shifted, used for input\n",
    "        tgt_mask = batch[\"target_mask\"].to(device)\n",
    "\n",
    "        optimizer.zero_grad()\n",
    "\n",
    "        # Mixed precision forward pass with shifted decoder input\n",
    "        with torch.amp.autocast(\"cuda\"):\n",
    "            outputs = model(\n",
    "                input_ids,\n",
    "                decoder_input_ids,  # Use shifted targets as decoder input\n",
    "                src_mask=src_mask,\n",
    "                tgt_mask=tgt_mask\n",
    "            )\n",
    "\n",
    "            # Calculate cross entropy loss (predicting `target_ids`)\n",
    "            loss = F.cross_entropy(\n",
    "                outputs.view(-1, outputs.size(-1)),  # [B*summary_len, vocab_size]\n",
    "                target_ids.view(-1),                 # [B*summary_len]\n",
    "                ignore_index=1                       # Ignore padding tokens\n",
    "            )\n",
    "\n",
    "        loss_history.append(loss.item())\n",
    "\n",
    "        # Backward pass with scaler for FP16 training\n",
    "        scaler.scale(loss).backward()\n",
    "        scaler.step(optimizer)\n",
    "        scaler.update()\n",
    "\n",
    "        # Every 50 batches, print average loss and save model\n",
    "        if (batch_idx + 1) % 50 == 0:\n",
    "            avg_loss = np.mean(loss_history[-50:])\n",
    "            progress_bar.set_postfix(loss=avg_loss)\n",
    "            np.save(\"loss_history.npy\", np.array(loss_history))\n",
    "            torch.save(model.state_dict(), \"xsum_model.pt\")\n",
    "\n",
    "    # End-of-epoch: Evaluate on validation set\n",
    "    model.eval()\n",
    "    val_losses = []\n",
    "    with torch.no_grad():\n",
    "        for batch in val_loader:\n",
    "            input_ids = batch[\"input_ids\"].to(device)\n",
    "            src_mask = batch[\"input_mask\"].to(device)\n",
    "            target_ids = batch[\"target_ids\"].to(device)\n",
    "            decoder_input_ids = batch[\"decoder_input_ids\"].to(device)\n",
    "            tgt_mask = batch[\"target_mask\"].to(device)\n",
    "\n",
    "            outputs = model(\n",
    "                src=input_ids,\n",
    "                tgt=decoder_input_ids,  # Use shifted targets as decoder input\n",
    "                src_mask=src_mask,\n",
    "                tgt_mask=tgt_mask\n",
    "            )\n",
    "\n",
    "            loss = F.cross_entropy(\n",
    "                outputs.view(-1, outputs.size(-1)),\n",
    "                target_ids.view(-1),\n",
    "                ignore_index=1\n",
    "            )\n",
    "            val_losses.append(loss.item())\n",
    "\n",
    "    avg_val_loss = np.mean(val_losses)\n",
    "    print(f\"Epoch {epoch + 1}: Validation loss = {avg_val_loss}\")"
   ]
  },
  {
   "cell_type": "code",
   "execution_count": 20,
   "id": "261cbaa0-6c11-4c67-b67b-48e88d138bcd",
   "metadata": {},
   "outputs": [
    {
     "data": {
      "image/png": "[encoded data removed]",
      "text/plain": [
       "<Figure size 1000x500 with 1 Axes>"
      ]
     },
     "metadata": {},
     "output_type": "display_data"
    }
   ],
   "source": [
    "# Load the loss history from the .npy file\n",
    "loss_history = np.load('loss_history.npy')\n",
    "\n",
    "# Plot the loss history\n",
    "plt.figure(figsize=(10, 5))\n",
    "plt.plot(loss_history, label='Training Loss')\n",
    "plt.title('Training Loss Over Batches')\n",
    "plt.xlabel('Batches')\n",
    "plt.ylabel('Loss')\n",
    "plt.legend()\n",
    "plt.grid()\n",
    "plt.show()"
   ]
  },
  {
   "cell_type": "code",
   "execution_count": 21,
   "id": "63c6230d-4195-4e3d-a4cb-adee12032f95",
   "metadata": {},
   "outputs": [
    {
     "name": "stdout",
     "output_type": "stream",
     "text": [
      "Test input:\n",
      " Three furry critters with a voracious sexual appetite have been discovered in Queenland. The shaggy-haired marsupials have marathon mating sessions that are so vigorous they often prove fatal to the male. Australian scientists discovered the new species, which are about the same size as a mouse and enjoys - or endures - a mating season that lasts for several weeks. The black-tailed antichinus' sex sessions can last for to 14 hours at a time, with both the males and females romping from mate to mate . 'It’s a very exciting time to be a mammalogist,' said Andrew Baker, head of the Queensland University of Technology team who made the discoveries.'Typically there’s only a couple of new species of mammals found worldwide each year. So to find three new species of this marsupial, all in South-East Queensland is really exciting,' he told The Guardian. One of the creatures, named the black-tailed antechinus, has been found in the high-altitude, wet areas of far southeast Queensland and northeast New South Wales. Scientists from the University of Queensland explained about the die-off of Antechinus when the species was discovered last year. It is presumed that the new black-tailed species behaves in a similar way. Researchers had imaged that the males were altruistic and died so that there was more food for their offspring, but biologist Diana Fisher showed the animals were over-doing it to promote their own genes over their competitors’. They try so hard to reproduce that their bodies shut down. Researchers found the huge rush of stress hormones, which have enabled the animals to keep at it over a mating period of a few weeks, also causes their body tissues to ‘disintegrate’. Their fur falls out, they stagger around, bleed internally and sometimes get painful gangrene infections as their immune system stops working - before dying. Caribbean reef squid, Pacific salmon and plenty of arachnids also engage in semelparous, or 'big-bang reproduction'. But it is rare for mammals to employ such desperate mating tactics. It is identifiable by a very shaggy, hairy coat with long guard hairs and an orangey-brown coloured rump, which ends with a black tail. But its incredible sexual appetite and strenuous mating sessions are arguably its most noteworthy feature. Sex sessions can last for to 14 hours at a time, with both the males and females romping from mate to mate. ‘It's\n",
      "\n",
      "Test target: The black-tailed antechinus has been found in the high-altitude, wet areas of far southeast Queensland and northeast New South Wales .\n",
      "It is identifiable by a very shaggy, hairy .\n",
      "coat with long guard hairs and an orangey-brown coloured rump, which .\n",
      "ends with a black tail .\n",
      "Sex sessions can last for to 14 hours at a time, with both the males and females romping from mate to mate .\n",
      "Generated Output: University of Wales .\n",
      "susages and a new species .\n",
      "Back to the University .\n",
      "Back to the page you .\n",
      "Back to the page you . .\n",
      "the-made .\n",
      "the-made . . . . . . . . . . . . . . . . . . . . . . . . . . . . . . . . . . . . . . . . .\n"
     ]
    }
   ],
   "source": [
    "# Testing the model on a batch from the train loader (seen example)\n",
    "test_batch = next(iter(train_loader))\n",
    "input_ids = test_batch[\"input_ids\"].to(device)\n",
    "src_mask = test_batch[\"input_mask\"].to(device)\n",
    "target_ids = test_batch[\"target_ids\"].to(device)\n",
    "tgt_mask = test_batch[\"target_mask\"].to(device)\n",
    "\n",
    "print(\"Test input:\\n\",tokenizer.tokenizer.decode(input_ids[0], skip_special_tokens=True))\n",
    "print(\"\\nTest target:\",tokenizer.tokenizer.decode(target_ids[0], skip_special_tokens=True))\n",
    "\n",
    "model.eval()\n",
    "with torch.no_grad():\n",
    "    outputs = model.generate(input_ids, src_mask=src_mask, max_length=max_summary_length)\n",
    "\n",
    "predicted_text = tokenizer.tokenizer.batch_decode(outputs, skip_special_tokens=True)  # Decode to text\n",
    "print(\"Generated Output:\", predicted_text[0])  # Print the predicted output"
   ]
  },
  {
   "cell_type": "code",
   "execution_count": 22,
   "id": "93af0a35-61e1-4fbd-a23a-1455aeaab288",
   "metadata": {},
   "outputs": [
    {
     "name": "stdout",
     "output_type": "stream",
     "text": [
      "Test input:\n",
      " Ever noticed how plane seats appear to be getting smaller and smaller? With increasing numbers of people taking to the skies, some experts are questioning if having such packed out planes is putting passengers at risk. They say that the shrinking space on aeroplanes is not only uncomfortable - it's putting our health and safety in danger. More than squabbling over the arm rest, shrinking space on planes putting our health and safety in danger? This week, a U.S consumer advisory group set up by the Department of Transportation said at a public hearing that while the government is happy to set standards for animals flying on planes, it doesn't stipulate a minimum amount of space for humans. 'In a world where animals have more rights to space and food than humans,' said Charlie Leocha, consumer representative on the committee. 'It is time that the DOT and FAA take a stand for humane treatment of passengers.' But could crowding on planes lead to more serious issues than fighting for space in the overhead lockers, crashing elbows and seat back kicking? Tests conducted by the FAA use planes with a 31 inch pitch, a standard which on some airlines has decreased . Many economy seats on United Airlines have 30 inches of room, while some airlines offer as little as 28 inches . Cynthia Corbertt, a human factors researcher with the Federal Aviation Administration, that it conducts tests on how quickly passengers can leave a plane. But these tests are conducted using planes with 31 inches between each row of seats, a standard which on some airlines has decreased, reported the Detroit News. The distance between two seats from one point on a seat to the same point on the seat behind it is known as the pitch. While most airlines stick to a pitch of 31 inches or above, some fall below this. While United Airlines has 30 inches of space, Gulf Air economy seats have between 29 and 32 inches, Air Asia offers 29 inches and Spirit Airlines offers just 28 inches. British Airways has a seat pitch of 31 inches, while easyJet has 29 inches, Thomson's short haul seat pitch is 28 inches, and Virgin Atlantic's is 30-31.\n",
      "\n",
      "Test target: Experts question if  packed out planes are putting passengers at risk .\n",
      "U.S consumer advisory group says minimum space must be stipulated .\n",
      "Safety tests conducted on planes with more leg room than airlines offer .\n",
      "Predicted Output: Microsoft .\n",
      "sens of .\n",
      "the airport .\n",
      "the most dangerous .\n",
      "Back to the U.S. .\n",
      "the-based .\n",
      "the-based .\n",
      "the-based .\n",
      "the-based . . . . . . . . . . . . . . . . . . . . . . . . . . . . . . . . . . . . . . . . .\n"
     ]
    }
   ],
   "source": [
    "# Testing the model on a batch from the test loader (unseen example)\n",
    "test_batch = next(iter(test_loader))\n",
    "input_ids = test_batch[\"input_ids\"].to(device)\n",
    "src_mask = test_batch[\"input_mask\"].to(device)\n",
    "target_ids = test_batch[\"target_ids\"].to(device)\n",
    "tgt_mask = test_batch[\"target_mask\"].to(device)\n",
    "\n",
    "print(\"Test input:\\n\",tokenizer.tokenizer.decode(input_ids[0], skip_special_tokens=True))\n",
    "print(\"\\nTest target:\",tokenizer.tokenizer.decode(target_ids[0], skip_special_tokens=True))\n",
    "\n",
    "model.eval()\n",
    "with torch.no_grad():\n",
    "    outputs = model.generate(input_ids, src_mask=src_mask, max_length=max_summary_length)\n",
    "\n",
    "predicted_text = tokenizer.tokenizer.batch_decode(outputs, skip_special_tokens=True)  # Decode to text\n",
    "print(\"Predicted Output:\", predicted_text[0])  # Print the predicted output"
   ]
  },
  {
   "cell_type": "code",
   "execution_count": 25,
   "id": "63843b14-e25c-4cb9-aa0d-f6c0c6b362f1",
   "metadata": {},
   "outputs": [
    {
     "name": "stdout",
     "output_type": "stream",
     "text": [
      "Test Loss: 10.7149\n",
      "ROUGE-1 Score: 0.1902\n",
      "ROUGE-2 Score: 0.0487\n",
      "ROUGE-L Score: 0.1461\n"
     ]
    }
   ],
   "source": [
    "from rouge_score import rouge_scorer\n",
    "\n",
    "# Initialize the ROUGE scorer\n",
    "scorer = rouge_scorer.RougeScorer(['rouge1', 'rouge2', 'rougeL'], use_stemmer=True)\n",
    "\n",
    "test_loss = 0\n",
    "all_references = []\n",
    "all_hypotheses = []\n",
    "rouge_scores = {'rouge1': [], 'rouge2': [], 'rougeL': []}\n",
    "\n",
    "with torch.no_grad():  # Disable gradient calculation\n",
    "    for batch in test_loader:\n",
    "        # Move everything to device\n",
    "        input_ids = batch[\"input_ids\"].to(device)\n",
    "        src_mask = batch[\"input_mask\"].to(device)\n",
    "        target_ids = batch[\"target_ids\"].to(device)\n",
    "        tgt_mask = batch[\"target_mask\"].to(device)\n",
    "\n",
    "        # Forward pass\n",
    "        outputs = model(\n",
    "            input_ids,\n",
    "            target_ids,\n",
    "            src_mask=src_mask,\n",
    "            tgt_mask=tgt_mask\n",
    "        )\n",
    "\n",
    "        # Calculate cross entropy loss directly\n",
    "        loss = F.cross_entropy(\n",
    "            outputs.view(-1, outputs.size(-1)),\n",
    "            target_ids.view(-1),\n",
    "            ignore_index=1\n",
    "        )\n",
    "\n",
    "        test_loss += loss.item()\n",
    "\n",
    "        # Convert outputs and targets to strings for ROUGE score\n",
    "        predictions = outputs.argmax(dim=-1).tolist()\n",
    "        references = target_ids.tolist()\n",
    "        \n",
    "        for pred, ref in zip(predictions, references):\n",
    "            pred_str = ' '.join(map(str, pred))\n",
    "            ref_str = ' '.join(map(str, ref))\n",
    "            \n",
    "            # Calculate ROUGE scores for each prediction and reference\n",
    "            score = scorer.score(ref_str, pred_str)\n",
    "            \n",
    "            rouge_scores['rouge1'].append(score['rouge1'])\n",
    "            rouge_scores['rouge2'].append(score['rouge2'])\n",
    "            rouge_scores['rougeL'].append(score['rougeL'])\n",
    "\n",
    "# Calculate average test loss\n",
    "avg_test_loss = test_loss / len(test_loader)\n",
    "print(f\"Test Loss: {avg_test_loss:.4f}\")\n",
    "\n",
    "# Calculate average ROUGE scores\n",
    "avg_rouge1 = sum([score.fmeasure for score in rouge_scores['rouge1']]) / len(rouge_scores['rouge1'])\n",
    "avg_rouge2 = sum([score.fmeasure for score in rouge_scores['rouge2']]) / len(rouge_scores['rouge2'])\n",
    "avg_rougeL = sum([score.fmeasure for score in rouge_scores['rougeL']]) / len(rouge_scores['rougeL'])\n",
    "\n",
    "print(f\"ROUGE-1 Score: {avg_rouge1:.4f}\")\n",
    "print(f\"ROUGE-2 Score: {avg_rouge2:.4f}\")\n",
    "print(f\"ROUGE-L Score: {avg_rougeL:.4f}\")\n"
   ]
  },
  {
   "cell_type": "code",
   "execution_count": null,
   "id": "b63c723a-aebf-4c9d-9ef5-c625d9534540",
   "metadata": {},
   "outputs": [],
   "source": []
  }
 ],
 "metadata": {
  "kernelspec": {
   "display_name": "Python 3 (ipykernel)",
   "language": "python",
   "name": "python3"
  },
  "language_info": {
   "codemirror_mode": {
    "name": "ipython",
    "version": 3
   },
   "file_extension": ".py",
   "mimetype": "text/x-python",
   "name": "python",
   "nbconvert_exporter": "python",
   "pygments_lexer": "ipython3",
   "version": "3.10.12"
  }
 },
 "nbformat": 4,
 "nbformat_minor": 5
}
